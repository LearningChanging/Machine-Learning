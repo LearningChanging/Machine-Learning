{
 "cells": [
  {
   "cell_type": "markdown",
   "metadata": {},
   "source": [
    "# KNN 回归器"
   ]
  },
  {
   "cell_type": "code",
   "execution_count": 2,
   "metadata": {},
   "outputs": [],
   "source": [
    "import pandas as pd\n",
    "import matplotlib\n",
    "import matplotlib.pyplot as plt\n",
    "import numpy as np\n",
    "import seaborn as sns"
   ]
  },
  {
   "cell_type": "code",
   "execution_count": 3,
   "metadata": {},
   "outputs": [
    {
     "data": {
      "text/html": [
       "<div>\n",
       "<style scoped>\n",
       "    .dataframe tbody tr th:only-of-type {\n",
       "        vertical-align: middle;\n",
       "    }\n",
       "\n",
       "    .dataframe tbody tr th {\n",
       "        vertical-align: top;\n",
       "    }\n",
       "\n",
       "    .dataframe thead th {\n",
       "        text-align: right;\n",
       "    }\n",
       "</style>\n",
       "<table border=\"1\" class=\"dataframe\">\n",
       "  <thead>\n",
       "    <tr style=\"text-align: right;\">\n",
       "      <th></th>\n",
       "      <th>Brand</th>\n",
       "      <th>Type</th>\n",
       "      <th>Color</th>\n",
       "      <th>Construction Year</th>\n",
       "      <th>Odometer</th>\n",
       "      <th>Ask Price</th>\n",
       "      <th>Days Until MOT</th>\n",
       "      <th>HP</th>\n",
       "    </tr>\n",
       "  </thead>\n",
       "  <tbody>\n",
       "    <tr>\n",
       "      <th>0</th>\n",
       "      <td>Peugeot 106</td>\n",
       "      <td>1.0</td>\n",
       "      <td>blue</td>\n",
       "      <td>2002</td>\n",
       "      <td>166879</td>\n",
       "      <td>999</td>\n",
       "      <td>138</td>\n",
       "      <td>60</td>\n",
       "    </tr>\n",
       "    <tr>\n",
       "      <th>1</th>\n",
       "      <td>Peugeot 106</td>\n",
       "      <td>1.0</td>\n",
       "      <td>blue</td>\n",
       "      <td>1998</td>\n",
       "      <td>234484</td>\n",
       "      <td>999</td>\n",
       "      <td>346</td>\n",
       "      <td>60</td>\n",
       "    </tr>\n",
       "    <tr>\n",
       "      <th>2</th>\n",
       "      <td>Peugeot 106</td>\n",
       "      <td>1.1</td>\n",
       "      <td>black</td>\n",
       "      <td>1997</td>\n",
       "      <td>219752</td>\n",
       "      <td>500</td>\n",
       "      <td>-5</td>\n",
       "      <td>60</td>\n",
       "    </tr>\n",
       "    <tr>\n",
       "      <th>3</th>\n",
       "      <td>Peugeot 106</td>\n",
       "      <td>1.1</td>\n",
       "      <td>red</td>\n",
       "      <td>2001</td>\n",
       "      <td>223692</td>\n",
       "      <td>750</td>\n",
       "      <td>-87</td>\n",
       "      <td>60</td>\n",
       "    </tr>\n",
       "    <tr>\n",
       "      <th>4</th>\n",
       "      <td>Peugeot 106</td>\n",
       "      <td>1.1</td>\n",
       "      <td>grey</td>\n",
       "      <td>2002</td>\n",
       "      <td>120275</td>\n",
       "      <td>1650</td>\n",
       "      <td>356</td>\n",
       "      <td>59</td>\n",
       "    </tr>\n",
       "    <tr>\n",
       "      <th>5</th>\n",
       "      <td>Peugeot 106</td>\n",
       "      <td>1.1</td>\n",
       "      <td>red</td>\n",
       "      <td>2003</td>\n",
       "      <td>131358</td>\n",
       "      <td>1399</td>\n",
       "      <td>266</td>\n",
       "      <td>60</td>\n",
       "    </tr>\n",
       "    <tr>\n",
       "      <th>6</th>\n",
       "      <td>Peugeot 106</td>\n",
       "      <td>1.1</td>\n",
       "      <td>green</td>\n",
       "      <td>1999</td>\n",
       "      <td>304277</td>\n",
       "      <td>799</td>\n",
       "      <td>173</td>\n",
       "      <td>57</td>\n",
       "    </tr>\n",
       "    <tr>\n",
       "      <th>7</th>\n",
       "      <td>Peugeot 106</td>\n",
       "      <td>1.4</td>\n",
       "      <td>green</td>\n",
       "      <td>1998</td>\n",
       "      <td>93685</td>\n",
       "      <td>1300</td>\n",
       "      <td>0</td>\n",
       "      <td>75</td>\n",
       "    </tr>\n",
       "    <tr>\n",
       "      <th>8</th>\n",
       "      <td>Peugeot 106</td>\n",
       "      <td>1.1</td>\n",
       "      <td>white</td>\n",
       "      <td>2002</td>\n",
       "      <td>225935</td>\n",
       "      <td>950</td>\n",
       "      <td>113</td>\n",
       "      <td>60</td>\n",
       "    </tr>\n",
       "    <tr>\n",
       "      <th>9</th>\n",
       "      <td>Peugeot 106</td>\n",
       "      <td>1.4</td>\n",
       "      <td>green</td>\n",
       "      <td>1997</td>\n",
       "      <td>252319</td>\n",
       "      <td>650</td>\n",
       "      <td>133</td>\n",
       "      <td>75</td>\n",
       "    </tr>\n",
       "    <tr>\n",
       "      <th>10</th>\n",
       "      <td>Peugeot 106</td>\n",
       "      <td>1.0</td>\n",
       "      <td>black</td>\n",
       "      <td>1998</td>\n",
       "      <td>220000</td>\n",
       "      <td>700</td>\n",
       "      <td>82</td>\n",
       "      <td>50</td>\n",
       "    </tr>\n",
       "    <tr>\n",
       "      <th>11</th>\n",
       "      <td>Peugeot 106</td>\n",
       "      <td>1.1</td>\n",
       "      <td>black</td>\n",
       "      <td>1997</td>\n",
       "      <td>212000</td>\n",
       "      <td>700</td>\n",
       "      <td>75</td>\n",
       "      <td>60</td>\n",
       "    </tr>\n",
       "    <tr>\n",
       "      <th>12</th>\n",
       "      <td>Peugeot 106</td>\n",
       "      <td>1.1</td>\n",
       "      <td>black</td>\n",
       "      <td>2003</td>\n",
       "      <td>255134</td>\n",
       "      <td>799</td>\n",
       "      <td>197</td>\n",
       "      <td>60</td>\n",
       "    </tr>\n",
       "  </tbody>\n",
       "</table>\n",
       "</div>"
      ],
      "text/plain": [
       "          Brand  Type  Color  Construction Year  Odometer  Ask Price  \\\n",
       "0   Peugeot 106   1.0   blue               2002    166879        999   \n",
       "1   Peugeot 106   1.0   blue               1998    234484        999   \n",
       "2   Peugeot 106   1.1  black               1997    219752        500   \n",
       "3   Peugeot 106   1.1    red               2001    223692        750   \n",
       "4   Peugeot 106   1.1   grey               2002    120275       1650   \n",
       "5   Peugeot 106   1.1    red               2003    131358       1399   \n",
       "6   Peugeot 106   1.1  green               1999    304277        799   \n",
       "7   Peugeot 106   1.4  green               1998     93685       1300   \n",
       "8   Peugeot 106   1.1  white               2002    225935        950   \n",
       "9   Peugeot 106   1.4  green               1997    252319        650   \n",
       "10  Peugeot 106   1.0  black               1998    220000        700   \n",
       "11  Peugeot 106   1.1  black               1997    212000        700   \n",
       "12  Peugeot 106   1.1  black               2003    255134        799   \n",
       "\n",
       "    Days Until MOT  HP  \n",
       "0              138  60  \n",
       "1              346  60  \n",
       "2               -5  60  \n",
       "3              -87  60  \n",
       "4              356  59  \n",
       "5              266  60  \n",
       "6              173  57  \n",
       "7                0  75  \n",
       "8              113  60  \n",
       "9              133  75  \n",
       "10              82  50  \n",
       "11              75  60  \n",
       "12             197  60  "
      ]
     },
     "execution_count": 3,
     "metadata": {},
     "output_type": "execute_result"
    }
   ],
   "source": [
    "#读取数据\n",
    "df = pd.read_csv('data.csv')\n",
    "df  # data frame"
   ]
  },
  {
   "cell_type": "code",
   "execution_count": 4,
   "metadata": {},
   "outputs": [
    {
     "data": {
      "text/html": [
       "<div>\n",
       "<style scoped>\n",
       "    .dataframe tbody tr th:only-of-type {\n",
       "        vertical-align: middle;\n",
       "    }\n",
       "\n",
       "    .dataframe tbody tr th {\n",
       "        vertical-align: top;\n",
       "    }\n",
       "\n",
       "    .dataframe thead th {\n",
       "        text-align: right;\n",
       "    }\n",
       "</style>\n",
       "<table border=\"1\" class=\"dataframe\">\n",
       "  <thead>\n",
       "    <tr style=\"text-align: right;\">\n",
       "      <th></th>\n",
       "      <th>Construction Year</th>\n",
       "      <th>Odometer</th>\n",
       "      <th>Ask Price</th>\n",
       "      <th>Days Until MOT</th>\n",
       "      <th>HP</th>\n",
       "      <th>Color: black</th>\n",
       "      <th>Color: blue</th>\n",
       "      <th>Color: green</th>\n",
       "      <th>Color: grey</th>\n",
       "      <th>Color: red</th>\n",
       "      <th>Color: white</th>\n",
       "      <th>Type: 1.0</th>\n",
       "      <th>Type: 1.1</th>\n",
       "      <th>Type: 1.4</th>\n",
       "    </tr>\n",
       "  </thead>\n",
       "  <tbody>\n",
       "    <tr>\n",
       "      <th>0</th>\n",
       "      <td>2002</td>\n",
       "      <td>166879</td>\n",
       "      <td>999</td>\n",
       "      <td>138</td>\n",
       "      <td>60</td>\n",
       "      <td>0</td>\n",
       "      <td>1</td>\n",
       "      <td>0</td>\n",
       "      <td>0</td>\n",
       "      <td>0</td>\n",
       "      <td>0</td>\n",
       "      <td>1</td>\n",
       "      <td>0</td>\n",
       "      <td>0</td>\n",
       "    </tr>\n",
       "    <tr>\n",
       "      <th>1</th>\n",
       "      <td>1998</td>\n",
       "      <td>234484</td>\n",
       "      <td>999</td>\n",
       "      <td>346</td>\n",
       "      <td>60</td>\n",
       "      <td>0</td>\n",
       "      <td>1</td>\n",
       "      <td>0</td>\n",
       "      <td>0</td>\n",
       "      <td>0</td>\n",
       "      <td>0</td>\n",
       "      <td>1</td>\n",
       "      <td>0</td>\n",
       "      <td>0</td>\n",
       "    </tr>\n",
       "    <tr>\n",
       "      <th>2</th>\n",
       "      <td>1997</td>\n",
       "      <td>219752</td>\n",
       "      <td>500</td>\n",
       "      <td>-5</td>\n",
       "      <td>60</td>\n",
       "      <td>1</td>\n",
       "      <td>0</td>\n",
       "      <td>0</td>\n",
       "      <td>0</td>\n",
       "      <td>0</td>\n",
       "      <td>0</td>\n",
       "      <td>0</td>\n",
       "      <td>1</td>\n",
       "      <td>0</td>\n",
       "    </tr>\n",
       "    <tr>\n",
       "      <th>3</th>\n",
       "      <td>2001</td>\n",
       "      <td>223692</td>\n",
       "      <td>750</td>\n",
       "      <td>-87</td>\n",
       "      <td>60</td>\n",
       "      <td>0</td>\n",
       "      <td>0</td>\n",
       "      <td>0</td>\n",
       "      <td>0</td>\n",
       "      <td>1</td>\n",
       "      <td>0</td>\n",
       "      <td>0</td>\n",
       "      <td>1</td>\n",
       "      <td>0</td>\n",
       "    </tr>\n",
       "    <tr>\n",
       "      <th>4</th>\n",
       "      <td>2002</td>\n",
       "      <td>120275</td>\n",
       "      <td>1650</td>\n",
       "      <td>356</td>\n",
       "      <td>59</td>\n",
       "      <td>0</td>\n",
       "      <td>0</td>\n",
       "      <td>0</td>\n",
       "      <td>1</td>\n",
       "      <td>0</td>\n",
       "      <td>0</td>\n",
       "      <td>0</td>\n",
       "      <td>1</td>\n",
       "      <td>0</td>\n",
       "    </tr>\n",
       "    <tr>\n",
       "      <th>5</th>\n",
       "      <td>2003</td>\n",
       "      <td>131358</td>\n",
       "      <td>1399</td>\n",
       "      <td>266</td>\n",
       "      <td>60</td>\n",
       "      <td>0</td>\n",
       "      <td>0</td>\n",
       "      <td>0</td>\n",
       "      <td>0</td>\n",
       "      <td>1</td>\n",
       "      <td>0</td>\n",
       "      <td>0</td>\n",
       "      <td>1</td>\n",
       "      <td>0</td>\n",
       "    </tr>\n",
       "    <tr>\n",
       "      <th>6</th>\n",
       "      <td>1999</td>\n",
       "      <td>304277</td>\n",
       "      <td>799</td>\n",
       "      <td>173</td>\n",
       "      <td>57</td>\n",
       "      <td>0</td>\n",
       "      <td>0</td>\n",
       "      <td>1</td>\n",
       "      <td>0</td>\n",
       "      <td>0</td>\n",
       "      <td>0</td>\n",
       "      <td>0</td>\n",
       "      <td>1</td>\n",
       "      <td>0</td>\n",
       "    </tr>\n",
       "    <tr>\n",
       "      <th>7</th>\n",
       "      <td>1998</td>\n",
       "      <td>93685</td>\n",
       "      <td>1300</td>\n",
       "      <td>0</td>\n",
       "      <td>75</td>\n",
       "      <td>0</td>\n",
       "      <td>0</td>\n",
       "      <td>1</td>\n",
       "      <td>0</td>\n",
       "      <td>0</td>\n",
       "      <td>0</td>\n",
       "      <td>0</td>\n",
       "      <td>0</td>\n",
       "      <td>1</td>\n",
       "    </tr>\n",
       "    <tr>\n",
       "      <th>8</th>\n",
       "      <td>2002</td>\n",
       "      <td>225935</td>\n",
       "      <td>950</td>\n",
       "      <td>113</td>\n",
       "      <td>60</td>\n",
       "      <td>0</td>\n",
       "      <td>0</td>\n",
       "      <td>0</td>\n",
       "      <td>0</td>\n",
       "      <td>0</td>\n",
       "      <td>1</td>\n",
       "      <td>0</td>\n",
       "      <td>1</td>\n",
       "      <td>0</td>\n",
       "    </tr>\n",
       "    <tr>\n",
       "      <th>9</th>\n",
       "      <td>1997</td>\n",
       "      <td>252319</td>\n",
       "      <td>650</td>\n",
       "      <td>133</td>\n",
       "      <td>75</td>\n",
       "      <td>0</td>\n",
       "      <td>0</td>\n",
       "      <td>1</td>\n",
       "      <td>0</td>\n",
       "      <td>0</td>\n",
       "      <td>0</td>\n",
       "      <td>0</td>\n",
       "      <td>0</td>\n",
       "      <td>1</td>\n",
       "    </tr>\n",
       "    <tr>\n",
       "      <th>10</th>\n",
       "      <td>1998</td>\n",
       "      <td>220000</td>\n",
       "      <td>700</td>\n",
       "      <td>82</td>\n",
       "      <td>50</td>\n",
       "      <td>1</td>\n",
       "      <td>0</td>\n",
       "      <td>0</td>\n",
       "      <td>0</td>\n",
       "      <td>0</td>\n",
       "      <td>0</td>\n",
       "      <td>1</td>\n",
       "      <td>0</td>\n",
       "      <td>0</td>\n",
       "    </tr>\n",
       "    <tr>\n",
       "      <th>11</th>\n",
       "      <td>1997</td>\n",
       "      <td>212000</td>\n",
       "      <td>700</td>\n",
       "      <td>75</td>\n",
       "      <td>60</td>\n",
       "      <td>1</td>\n",
       "      <td>0</td>\n",
       "      <td>0</td>\n",
       "      <td>0</td>\n",
       "      <td>0</td>\n",
       "      <td>0</td>\n",
       "      <td>0</td>\n",
       "      <td>1</td>\n",
       "      <td>0</td>\n",
       "    </tr>\n",
       "    <tr>\n",
       "      <th>12</th>\n",
       "      <td>2003</td>\n",
       "      <td>255134</td>\n",
       "      <td>799</td>\n",
       "      <td>197</td>\n",
       "      <td>60</td>\n",
       "      <td>1</td>\n",
       "      <td>0</td>\n",
       "      <td>0</td>\n",
       "      <td>0</td>\n",
       "      <td>0</td>\n",
       "      <td>0</td>\n",
       "      <td>0</td>\n",
       "      <td>1</td>\n",
       "      <td>0</td>\n",
       "    </tr>\n",
       "  </tbody>\n",
       "</table>\n",
       "</div>"
      ],
      "text/plain": [
       "    Construction Year  Odometer  Ask Price  Days Until MOT  HP  Color: black  \\\n",
       "0                2002    166879        999             138  60             0   \n",
       "1                1998    234484        999             346  60             0   \n",
       "2                1997    219752        500              -5  60             1   \n",
       "3                2001    223692        750             -87  60             0   \n",
       "4                2002    120275       1650             356  59             0   \n",
       "5                2003    131358       1399             266  60             0   \n",
       "6                1999    304277        799             173  57             0   \n",
       "7                1998     93685       1300               0  75             0   \n",
       "8                2002    225935        950             113  60             0   \n",
       "9                1997    252319        650             133  75             0   \n",
       "10               1998    220000        700              82  50             1   \n",
       "11               1997    212000        700              75  60             1   \n",
       "12               2003    255134        799             197  60             1   \n",
       "\n",
       "    Color: blue  Color: green  Color: grey  Color: red  Color: white  \\\n",
       "0             1             0            0           0             0   \n",
       "1             1             0            0           0             0   \n",
       "2             0             0            0           0             0   \n",
       "3             0             0            0           1             0   \n",
       "4             0             0            1           0             0   \n",
       "5             0             0            0           1             0   \n",
       "6             0             1            0           0             0   \n",
       "7             0             1            0           0             0   \n",
       "8             0             0            0           0             1   \n",
       "9             0             1            0           0             0   \n",
       "10            0             0            0           0             0   \n",
       "11            0             0            0           0             0   \n",
       "12            0             0            0           0             0   \n",
       "\n",
       "    Type: 1.0  Type: 1.1  Type: 1.4  \n",
       "0           1          0          0  \n",
       "1           1          0          0  \n",
       "2           0          1          0  \n",
       "3           0          1          0  \n",
       "4           0          1          0  \n",
       "5           0          1          0  \n",
       "6           0          1          0  \n",
       "7           0          0          1  \n",
       "8           0          1          0  \n",
       "9           0          0          1  \n",
       "10          1          0          0  \n",
       "11          0          1          0  \n",
       "12          0          1          0  "
      ]
     },
     "execution_count": 4,
     "metadata": {},
     "output_type": "execute_result"
    }
   ],
   "source": [
    "#清洗数据\n",
    "# 把颜色独热编码\n",
    "df_colors = df['Color'].str.get_dummies().add_prefix('Color: ')\n",
    "# 把类型独热编码\n",
    "df_type = df['Type'].apply(str).str.get_dummies().add_prefix('Type: ')\n",
    "# 添加独热编码数据列\n",
    "df = pd.concat([df, df_colors, df_type], axis=1)\n",
    "# 去除独热编码对应的原始列\n",
    "df = df.drop(['Brand', 'Type', 'Color'], axis=1)\n",
    "df"
   ]
  },
  {
   "cell_type": "code",
   "execution_count": 5,
   "metadata": {
    "scrolled": false
   },
   "outputs": [
    {
     "data": {
      "text/plain": [
       "Text(0.5, 1, 'Car Price Variables')"
      ]
     },
     "execution_count": 5,
     "metadata": {},
     "output_type": "execute_result"
    },
    {
     "data": {
      "image/png": "[encoded data removed]",
      "text/plain": [
       "<Figure size 576x432 with 2 Axes>"
      ]
     },
     "metadata": {
      "needs_background": "light"
     },
     "output_type": "display_data"
    }
   ],
   "source": [
    "# 数据转换\n",
    "matrix = df.corr()\n",
    "f, ax = plt.subplots(figsize=(8, 6))\n",
    "# https://seaborn.pydata.org/generated/seaborn.heatmap.html\n",
    "sns.heatmap(matrix, square=True)\n",
    "plt.title('Car Price Variables')"
   ]
  },
  {
   "cell_type": "code",
   "execution_count": 10,
   "metadata": {},
   "outputs": [
    {
     "data": {
      "image/png": "[encoded data removed]",
      "text/plain": [
       "<Figure size 864x864 with 20 Axes>"
      ]
     },
     "metadata": {
      "needs_background": "light"
     },
     "output_type": "display_data"
    }
   ],
   "source": [
    "# https://seaborn.pydata.org/generated/seaborn.pairplot.html 这图在这没什么用，应为不是分类问题\n",
    "sns.pairplot(df[['Construction Year', 'Days Until MOT', 'Odometer', 'Ask Price']], size=3)\n",
    "plt.show()"
   ]
  },
  {
   "cell_type": "code",
   "execution_count": 12,
   "metadata": {},
   "outputs": [
    {
     "data": {
      "image/png": "[encoded data removed]",
      "text/plain": [
       "<Figure size 432x288 with 1 Axes>"
      ]
     },
     "metadata": {
      "needs_background": "light"
     },
     "output_type": "display_data"
    },
    {
     "name": "stdout",
     "output_type": "stream",
     "text": [
      "[1199. 1199.  700.  899.]\n"
     ]
    }
   ],
   "source": [
    "from sklearn.neighbors import KNeighborsRegressor\n",
    "from sklearn.model_selection import train_test_split\n",
    "from sklearn import preprocessing\n",
    "from sklearn.preprocessing import StandardScaler\n",
    "import numpy as np\n",
    "\n",
    "X = df[['Construction Year', 'Days Until MOT', 'Odometer']]\n",
    "y = df['Ask Price'].values.reshape(-1, 1)\n",
    "X_train, X_test, y_train, y_test = train_test_split(X, y, test_size=0.3, random_state=41)\n",
    "\n",
    "# 归一化\n",
    "X_normalizer = StandardScaler() # N(0,1)\n",
    "X_train = X_normalizer.fit_transform(X_train)\n",
    "X_test = X_normalizer.transform(X_test)\n",
    "\n",
    "y_normalizer = StandardScaler()\n",
    "y_train = y_normalizer.fit_transform(y_train)\n",
    "y_test = y_normalizer.transform(y_test)\n",
    "\n",
    "knn = KNeighborsRegressor(n_neighbors=2)\n",
    "knn.fit(X_train, y_train.ravel())\n",
    "\n",
    "#Now we can predict prices:\n",
    "y_pred = knn.predict(X_test)\n",
    "# 逆归一化\n",
    "y_pred_inv = y_normalizer.inverse_transform(y_pred)\n",
    "y_test_inv = y_normalizer.inverse_transform(y_test)\n",
    "\n",
    "# Build a plot\n",
    "plt.scatter(y_pred_inv, y_test_inv)\n",
    "plt.xlabel('Prediction')\n",
    "plt.ylabel('Real value')\n",
    "\n",
    "# Now add the perfect prediction line 这条线可以衡量预测偏差，100%正确应该落到这条线上\n",
    "diagonal = np.linspace(500, 1500, 100) # 生成等间隔的100个点\n",
    "plt.plot(diagonal, diagonal, '-r')\n",
    "plt.xlabel('Predicted ask price')\n",
    "plt.ylabel('Ask price')\n",
    "plt.show()\n",
    "\n",
    "print(y_pred_inv)"
   ]
  },
  {
   "cell_type": "code",
   "execution_count": 13,
   "metadata": {},
   "outputs": [
    {
     "data": {
      "text/plain": [
       "KNeighborsRegressor(algorithm='auto', leaf_size=30, metric='minkowski',\n",
       "                    metric_params=None, n_jobs=None, n_neighbors=2, p=2,\n",
       "                    weights='uniform')"
      ]
     },
     "execution_count": 13,
     "metadata": {},
     "output_type": "execute_result"
    }
   ],
   "source": [
    "knn"
   ]
  },
  {
   "cell_type": "code",
   "execution_count": 14,
   "metadata": {},
   "outputs": [],
   "source": [
    "pred = knn.predict(X_test)"
   ]
  },
  {
   "cell_type": "code",
   "execution_count": 15,
   "metadata": {},
   "outputs": [
    {
     "data": {
      "text/plain": [
       "array([ 1.36676513,  1.36676513, -0.68269804,  0.13462294])"
      ]
     },
     "execution_count": 15,
     "metadata": {},
     "output_type": "execute_result"
    }
   ],
   "source": [
    "pred"
   ]
  },
  {
   "cell_type": "code",
   "execution_count": 16,
   "metadata": {},
   "outputs": [
    {
     "data": {
      "text/plain": [
       "175.5"
      ]
     },
     "execution_count": 16,
     "metadata": {},
     "output_type": "execute_result"
    }
   ],
   "source": [
    "from sklearn.metrics import mean_absolute_error\n",
    "# https://scikit-learn.org/stable/modules/generated/sklearn.metrics.mean_absolute_error.html\n",
    "# 绝对误差\n",
    "mean_absolute_error(y_pred_inv, y_test_inv)"
   ]
  },
  {
   "cell_type": "code",
   "execution_count": 17,
   "metadata": {},
   "outputs": [
    {
     "data": {
      "text/plain": [
       "56525.5"
      ]
     },
     "execution_count": 17,
     "metadata": {},
     "output_type": "execute_result"
    }
   ],
   "source": [
    "from sklearn.metrics import mean_squared_error\n",
    "# 均方误差\n",
    "mean_squared_error(y_pred_inv, y_test_inv)"
   ]
  },
  {
   "cell_type": "code",
   "execution_count": 18,
   "metadata": {},
   "outputs": [
    {
     "data": {
      "text/plain": [
       "array([1199., 1199.,  700.,  899.])"
      ]
     },
     "execution_count": 18,
     "metadata": {},
     "output_type": "execute_result"
    }
   ],
   "source": [
    "y_pred_inv"
   ]
  },
  {
   "cell_type": "code",
   "execution_count": 19,
   "metadata": {},
   "outputs": [
    {
     "data": {
      "text/plain": [
       "array([[1300.],\n",
       "       [1650.],\n",
       "       [ 650.],\n",
       "       [ 799.]])"
      ]
     },
     "execution_count": 19,
     "metadata": {},
     "output_type": "execute_result"
    }
   ],
   "source": [
    " y_test_inv"
   ]
  }
 ],
 "metadata": {
  "kernelspec": {
   "display_name": "Python 3",
   "language": "python",
   "name": "python3"
  },
  "language_info": {
   "codemirror_mode": {
    "name": "ipython",
    "version": 3
   },
   "file_extension": ".py",
   "mimetype": "text/x-python",
   "name": "python",
   "nbconvert_exporter": "python",
   "pygments_lexer": "ipython3",
   "version": "3.6.8"
  },
  "toc": {
   "base_numbering": 1,
   "nav_menu": {},
   "number_sections": true,
   "sideBar": true,
   "skip_h1_title": false,
   "title_cell": "Table of Contents",
   "title_sidebar": "Contents",
   "toc_cell": false,
   "toc_position": {},
   "toc_section_display": true,
   "toc_window_display": true
  }
 },
 "nbformat": 4,
 "nbformat_minor": 2
}
